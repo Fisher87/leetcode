{
 "cells": [
  {
   "cell_type": "markdown",
   "metadata": {},
   "source": [
    "## Dynamic Programming"
   ]
  },
  {
   "cell_type": "code",
   "execution_count": 18,
   "metadata": {},
   "outputs": [
    {
     "output_type": "execute_result",
     "data": {
      "text/plain": "4"
     },
     "metadata": {},
     "execution_count": 18
    }
   ],
   "source": [
    "### longest asc subset\n",
    "def longest_asc_subset(num_list):\n",
    "    if len(num_list)<=1:\n",
    "        return len(num_list)\n",
    "    dp = [1 for i in range(len(num_list))]\n",
    "    # dp[0] = 1\n",
    "    for i in range(1, len(num_list)):\n",
    "        for j in range(i):\n",
    "            if num_list[i] > num_list[j]:\n",
    "                dp[i] = max(dp[i], dp[j]+1)\n",
    "    return dp[-1]\n",
    "\n",
    "longest_asc_subset([10,9,2,5,3,7,101,18])\n"
   ]
  },
  {
   "cell_type": "markdown",
   "metadata": {},
   "source": [
    "## DataStruct\n"
   ]
  },
  {
   "cell_type": "code",
   "execution_count": null,
   "metadata": {},
   "outputs": [],
   "source": [
    "## Binary Tree, 判断是否是合法的前序遍历二叉树\n",
    "def isvalid(s):\n",
    "    stack = []\n",
    "    for i in range(len(s)):\n",
    "        stack.append(s[i])\n",
    "        while (len(stack)>=3) and (stack[-1]==stack[-2]=='#'):\n",
    "            for _ in range(3):\n",
    "                stack.pop()\n",
    "            stack.append('#')\n",
    "    return stack\n",
    "\n",
    "s = '9,4,5,1,#,#,1,#,#,3,#,7,#,#'\n",
    "r = isvalid(s.split(','))\n",
    "r"
   ]
  }
 ],
 "metadata": {
  "language_info": {
   "codemirror_mode": {
    "name": "ipython",
    "version": 3
   },
   "file_extension": ".py",
   "mimetype": "text/x-python",
   "name": "python",
   "nbconvert_exporter": "python",
   "pygments_lexer": "ipython3",
   "version": 3
  },
  "orig_nbformat": 2,
  "kernelspec": {
   "name": "python_defaultSpec_1615617173211",
   "display_name": "Python 3.7.4 64-bit ('anaconda3': virtualenv)"
  }
 },
 "nbformat": 4,
 "nbformat_minor": 2
}